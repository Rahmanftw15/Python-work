{
 "cells": [
  {
   "cell_type": "code",
   "execution_count": 1,
   "metadata": {},
   "outputs": [],
   "source": [
    "# {THIS IS AN EXAMPLE OF SHUFFLE}\n",
    "# shuffling few numbers \n",
    "# I've few items [1,2,3,4,5,6,7,8,9,10]\n",
    "# And I would like to shuffle these items using \"from random import shuffle \"\n",
    "\n",
    "# I'M USING THIS CONCEPT TO CREATE A GAME CALLED \"SHAFFLE BALL MONTE\""
   ]
  },
  {
   "cell_type": "code",
   "execution_count": 2,
   "metadata": {},
   "outputs": [],
   "source": [
    "example = [1,2,3,4,5,6,7,8,9,10]\n",
    "from random import shuffle\n",
    "shuffle(example)"
   ]
  },
  {
   "cell_type": "code",
   "execution_count": 3,
   "metadata": {},
   "outputs": [
    {
     "data": {
      "text/plain": [
       "[3, 1, 5, 2, 6, 8, 7, 9, 10, 4]"
      ]
     },
     "execution_count": 3,
     "metadata": {},
     "output_type": "execute_result"
    }
   ],
   "source": [
    "example"
   ]
  },
  {
   "cell_type": "code",
   "execution_count": null,
   "metadata": {},
   "outputs": [],
   "source": []
  }
 ],
 "metadata": {
  "kernelspec": {
   "display_name": "Python 3",
   "language": "python",
   "name": "python3"
  },
  "language_info": {
   "codemirror_mode": {
    "name": "ipython",
    "version": 3
   },
   "file_extension": ".py",
   "mimetype": "text/x-python",
   "name": "python",
   "nbconvert_exporter": "python",
   "pygments_lexer": "ipython3",
   "version": "3.10.9"
  },
  "orig_nbformat": 4,
  "vscode": {
   "interpreter": {
    "hash": "33b9a00ebb2a8828a91f24648adf7f02b9586ed8a38cced11619a117f20395ae"
   }
  }
 },
 "nbformat": 4,
 "nbformat_minor": 2
}
